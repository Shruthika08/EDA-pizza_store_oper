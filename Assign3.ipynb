{
  "nbformat": 4,
  "nbformat_minor": 0,
  "metadata": {
    "colab": {
      "provenance": [],
      "gpuType": "T4"
    },
    "kernelspec": {
      "name": "python3",
      "display_name": "Python 3"
    },
    "language_info": {
      "name": "python"
    }
  },
  "cells": [
    {
      "cell_type": "code",
      "execution_count": null,
      "metadata": {
        "id": "RmjneOfoU8MD"
      },
      "outputs": [],
      "source": [
        "# deliveries csv with - order id, timestamp and status\n",
        "# order_items csv with -order_id, items_ordered\n",
        "# orders csv with order_id, order_placed_at\n",
        "# products csv with item_id, category, item, size and price\n",
        "\n",
        "import pandas as pd\n",
        "deliveries_df = pd.read_csv(\"/content/deliveries.csv\")\n",
        "order_items_df = pd.read_csv(\"/content/order_items.csv\")\n",
        "orders_df = pd.read_csv(\"/content/orders.csv\")\n",
        "products_df = pd.read_csv(\"/content/products.csv\")"
      ]
    },
    {
      "cell_type": "code",
      "source": [
        "deliveries_df.head()"
      ],
      "metadata": {
        "colab": {
          "base_uri": "https://localhost:8080/",
          "height": 206
        },
        "id": "QXDIZSv0hWAS",
        "outputId": "de3a9220-8c41-4815-dfdd-114c6c2e0532"
      },
      "execution_count": null,
      "outputs": [
        {
          "output_type": "execute_result",
          "data": {
            "text/plain": [
              "    order_id                     time_stamp            status\n",
              "0  321230114  2020-12-11 00:01:29.000000000           Pending\n",
              "1  321230114  2020-12-11 00:06:29.000000000  Out For Delivery\n",
              "2  321230114  2020-12-11 00:19:13.299151076         Delivered\n",
              "3  321230115  2020-12-11 00:36:02.000000000           Pending\n",
              "4  321230115  2020-12-11 00:41:02.000000000  Out For Delivery"
            ],
            "text/html": [
              "\n",
              "  <div id=\"df-af5775c9-e257-4d02-8f25-75d5e9e71bc1\" class=\"colab-df-container\">\n",
              "    <div>\n",
              "<style scoped>\n",
              "    .dataframe tbody tr th:only-of-type {\n",
              "        vertical-align: middle;\n",
              "    }\n",
              "\n",
              "    .dataframe tbody tr th {\n",
              "        vertical-align: top;\n",
              "    }\n",
              "\n",
              "    .dataframe thead th {\n",
              "        text-align: right;\n",
              "    }\n",
              "</style>\n",
              "<table border=\"1\" class=\"dataframe\">\n",
              "  <thead>\n",
              "    <tr style=\"text-align: right;\">\n",
              "      <th></th>\n",
              "      <th>order_id</th>\n",
              "      <th>time_stamp</th>\n",
              "      <th>status</th>\n",
              "    </tr>\n",
              "  </thead>\n",
              "  <tbody>\n",
              "    <tr>\n",
              "      <th>0</th>\n",
              "      <td>321230114</td>\n",
              "      <td>2020-12-11 00:01:29.000000000</td>\n",
              "      <td>Pending</td>\n",
              "    </tr>\n",
              "    <tr>\n",
              "      <th>1</th>\n",
              "      <td>321230114</td>\n",
              "      <td>2020-12-11 00:06:29.000000000</td>\n",
              "      <td>Out For Delivery</td>\n",
              "    </tr>\n",
              "    <tr>\n",
              "      <th>2</th>\n",
              "      <td>321230114</td>\n",
              "      <td>2020-12-11 00:19:13.299151076</td>\n",
              "      <td>Delivered</td>\n",
              "    </tr>\n",
              "    <tr>\n",
              "      <th>3</th>\n",
              "      <td>321230115</td>\n",
              "      <td>2020-12-11 00:36:02.000000000</td>\n",
              "      <td>Pending</td>\n",
              "    </tr>\n",
              "    <tr>\n",
              "      <th>4</th>\n",
              "      <td>321230115</td>\n",
              "      <td>2020-12-11 00:41:02.000000000</td>\n",
              "      <td>Out For Delivery</td>\n",
              "    </tr>\n",
              "  </tbody>\n",
              "</table>\n",
              "</div>\n",
              "    <div class=\"colab-df-buttons\">\n",
              "\n",
              "  <div class=\"colab-df-container\">\n",
              "    <button class=\"colab-df-convert\" onclick=\"convertToInteractive('df-af5775c9-e257-4d02-8f25-75d5e9e71bc1')\"\n",
              "            title=\"Convert this dataframe to an interactive table.\"\n",
              "            style=\"display:none;\">\n",
              "\n",
              "  <svg xmlns=\"http://www.w3.org/2000/svg\" height=\"24px\" viewBox=\"0 -960 960 960\">\n",
              "    <path d=\"M120-120v-720h720v720H120Zm60-500h600v-160H180v160Zm220 220h160v-160H400v160Zm0 220h160v-160H400v160ZM180-400h160v-160H180v160Zm440 0h160v-160H620v160ZM180-180h160v-160H180v160Zm440 0h160v-160H620v160Z\"/>\n",
              "  </svg>\n",
              "    </button>\n",
              "\n",
              "  <style>\n",
              "    .colab-df-container {\n",
              "      display:flex;\n",
              "      gap: 12px;\n",
              "    }\n",
              "\n",
              "    .colab-df-convert {\n",
              "      background-color: #E8F0FE;\n",
              "      border: none;\n",
              "      border-radius: 50%;\n",
              "      cursor: pointer;\n",
              "      display: none;\n",
              "      fill: #1967D2;\n",
              "      height: 32px;\n",
              "      padding: 0 0 0 0;\n",
              "      width: 32px;\n",
              "    }\n",
              "\n",
              "    .colab-df-convert:hover {\n",
              "      background-color: #E2EBFA;\n",
              "      box-shadow: 0px 1px 2px rgba(60, 64, 67, 0.3), 0px 1px 3px 1px rgba(60, 64, 67, 0.15);\n",
              "      fill: #174EA6;\n",
              "    }\n",
              "\n",
              "    .colab-df-buttons div {\n",
              "      margin-bottom: 4px;\n",
              "    }\n",
              "\n",
              "    [theme=dark] .colab-df-convert {\n",
              "      background-color: #3B4455;\n",
              "      fill: #D2E3FC;\n",
              "    }\n",
              "\n",
              "    [theme=dark] .colab-df-convert:hover {\n",
              "      background-color: #434B5C;\n",
              "      box-shadow: 0px 1px 3px 1px rgba(0, 0, 0, 0.15);\n",
              "      filter: drop-shadow(0px 1px 2px rgba(0, 0, 0, 0.3));\n",
              "      fill: #FFFFFF;\n",
              "    }\n",
              "  </style>\n",
              "\n",
              "    <script>\n",
              "      const buttonEl =\n",
              "        document.querySelector('#df-af5775c9-e257-4d02-8f25-75d5e9e71bc1 button.colab-df-convert');\n",
              "      buttonEl.style.display =\n",
              "        google.colab.kernel.accessAllowed ? 'block' : 'none';\n",
              "\n",
              "      async function convertToInteractive(key) {\n",
              "        const element = document.querySelector('#df-af5775c9-e257-4d02-8f25-75d5e9e71bc1');\n",
              "        const dataTable =\n",
              "          await google.colab.kernel.invokeFunction('convertToInteractive',\n",
              "                                                    [key], {});\n",
              "        if (!dataTable) return;\n",
              "\n",
              "        const docLinkHtml = 'Like what you see? Visit the ' +\n",
              "          '<a target=\"_blank\" href=https://colab.research.google.com/notebooks/data_table.ipynb>data table notebook</a>'\n",
              "          + ' to learn more about interactive tables.';\n",
              "        element.innerHTML = '';\n",
              "        dataTable['output_type'] = 'display_data';\n",
              "        await google.colab.output.renderOutput(dataTable, element);\n",
              "        const docLink = document.createElement('div');\n",
              "        docLink.innerHTML = docLinkHtml;\n",
              "        element.appendChild(docLink);\n",
              "      }\n",
              "    </script>\n",
              "  </div>\n",
              "\n",
              "\n",
              "<div id=\"df-6389ab13-21eb-42d0-baca-4a011ed2393e\">\n",
              "  <button class=\"colab-df-quickchart\" onclick=\"quickchart('df-6389ab13-21eb-42d0-baca-4a011ed2393e')\"\n",
              "            title=\"Suggest charts\"\n",
              "            style=\"display:none;\">\n",
              "\n",
              "<svg xmlns=\"http://www.w3.org/2000/svg\" height=\"24px\"viewBox=\"0 0 24 24\"\n",
              "     width=\"24px\">\n",
              "    <g>\n",
              "        <path d=\"M19 3H5c-1.1 0-2 .9-2 2v14c0 1.1.9 2 2 2h14c1.1 0 2-.9 2-2V5c0-1.1-.9-2-2-2zM9 17H7v-7h2v7zm4 0h-2V7h2v10zm4 0h-2v-4h2v4z\"/>\n",
              "    </g>\n",
              "</svg>\n",
              "  </button>\n",
              "\n",
              "<style>\n",
              "  .colab-df-quickchart {\n",
              "      --bg-color: #E8F0FE;\n",
              "      --fill-color: #1967D2;\n",
              "      --hover-bg-color: #E2EBFA;\n",
              "      --hover-fill-color: #174EA6;\n",
              "      --disabled-fill-color: #AAA;\n",
              "      --disabled-bg-color: #DDD;\n",
              "  }\n",
              "\n",
              "  [theme=dark] .colab-df-quickchart {\n",
              "      --bg-color: #3B4455;\n",
              "      --fill-color: #D2E3FC;\n",
              "      --hover-bg-color: #434B5C;\n",
              "      --hover-fill-color: #FFFFFF;\n",
              "      --disabled-bg-color: #3B4455;\n",
              "      --disabled-fill-color: #666;\n",
              "  }\n",
              "\n",
              "  .colab-df-quickchart {\n",
              "    background-color: var(--bg-color);\n",
              "    border: none;\n",
              "    border-radius: 50%;\n",
              "    cursor: pointer;\n",
              "    display: none;\n",
              "    fill: var(--fill-color);\n",
              "    height: 32px;\n",
              "    padding: 0;\n",
              "    width: 32px;\n",
              "  }\n",
              "\n",
              "  .colab-df-quickchart:hover {\n",
              "    background-color: var(--hover-bg-color);\n",
              "    box-shadow: 0 1px 2px rgba(60, 64, 67, 0.3), 0 1px 3px 1px rgba(60, 64, 67, 0.15);\n",
              "    fill: var(--button-hover-fill-color);\n",
              "  }\n",
              "\n",
              "  .colab-df-quickchart-complete:disabled,\n",
              "  .colab-df-quickchart-complete:disabled:hover {\n",
              "    background-color: var(--disabled-bg-color);\n",
              "    fill: var(--disabled-fill-color);\n",
              "    box-shadow: none;\n",
              "  }\n",
              "\n",
              "  .colab-df-spinner {\n",
              "    border: 2px solid var(--fill-color);\n",
              "    border-color: transparent;\n",
              "    border-bottom-color: var(--fill-color);\n",
              "    animation:\n",
              "      spin 1s steps(1) infinite;\n",
              "  }\n",
              "\n",
              "  @keyframes spin {\n",
              "    0% {\n",
              "      border-color: transparent;\n",
              "      border-bottom-color: var(--fill-color);\n",
              "      border-left-color: var(--fill-color);\n",
              "    }\n",
              "    20% {\n",
              "      border-color: transparent;\n",
              "      border-left-color: var(--fill-color);\n",
              "      border-top-color: var(--fill-color);\n",
              "    }\n",
              "    30% {\n",
              "      border-color: transparent;\n",
              "      border-left-color: var(--fill-color);\n",
              "      border-top-color: var(--fill-color);\n",
              "      border-right-color: var(--fill-color);\n",
              "    }\n",
              "    40% {\n",
              "      border-color: transparent;\n",
              "      border-right-color: var(--fill-color);\n",
              "      border-top-color: var(--fill-color);\n",
              "    }\n",
              "    60% {\n",
              "      border-color: transparent;\n",
              "      border-right-color: var(--fill-color);\n",
              "    }\n",
              "    80% {\n",
              "      border-color: transparent;\n",
              "      border-right-color: var(--fill-color);\n",
              "      border-bottom-color: var(--fill-color);\n",
              "    }\n",
              "    90% {\n",
              "      border-color: transparent;\n",
              "      border-bottom-color: var(--fill-color);\n",
              "    }\n",
              "  }\n",
              "</style>\n",
              "\n",
              "  <script>\n",
              "    async function quickchart(key) {\n",
              "      const quickchartButtonEl =\n",
              "        document.querySelector('#' + key + ' button');\n",
              "      quickchartButtonEl.disabled = true;  // To prevent multiple clicks.\n",
              "      quickchartButtonEl.classList.add('colab-df-spinner');\n",
              "      try {\n",
              "        const charts = await google.colab.kernel.invokeFunction(\n",
              "            'suggestCharts', [key], {});\n",
              "      } catch (error) {\n",
              "        console.error('Error during call to suggestCharts:', error);\n",
              "      }\n",
              "      quickchartButtonEl.classList.remove('colab-df-spinner');\n",
              "      quickchartButtonEl.classList.add('colab-df-quickchart-complete');\n",
              "    }\n",
              "    (() => {\n",
              "      let quickchartButtonEl =\n",
              "        document.querySelector('#df-6389ab13-21eb-42d0-baca-4a011ed2393e button');\n",
              "      quickchartButtonEl.style.display =\n",
              "        google.colab.kernel.accessAllowed ? 'block' : 'none';\n",
              "    })();\n",
              "  </script>\n",
              "</div>\n",
              "\n",
              "    </div>\n",
              "  </div>\n"
            ]
          },
          "metadata": {},
          "execution_count": 42
        }
      ]
    },
    {
      "cell_type": "code",
      "source": [
        "deliveries_df['status'].unique()"
      ],
      "metadata": {
        "colab": {
          "base_uri": "https://localhost:8080/"
        },
        "id": "a6sIuCXFhgQY",
        "outputId": "a312ea41-7963-428d-f5ac-2ab939fd6337"
      },
      "execution_count": null,
      "outputs": [
        {
          "output_type": "execute_result",
          "data": {
            "text/plain": [
              "array(['Pending', 'Out For Delivery', 'Delivered'], dtype=object)"
            ]
          },
          "metadata": {},
          "execution_count": 43
        }
      ]
    },
    {
      "cell_type": "code",
      "source": [
        "deliveries_df.shape"
      ],
      "metadata": {
        "colab": {
          "base_uri": "https://localhost:8080/"
        },
        "id": "nkE0ggNahpoH",
        "outputId": "77773b6f-dd21-4f45-b6f9-91d4ff411469"
      },
      "execution_count": null,
      "outputs": [
        {
          "output_type": "execute_result",
          "data": {
            "text/plain": [
              "(1363008, 3)"
            ]
          },
          "metadata": {},
          "execution_count": 45
        }
      ]
    },
    {
      "cell_type": "code",
      "source": [
        "deliveries_df.isnull().sum()"
      ],
      "metadata": {
        "colab": {
          "base_uri": "https://localhost:8080/"
        },
        "id": "WVJK3HBQh3VX",
        "outputId": "09ca247a-d827-4d14-93be-eaad89db53ec"
      },
      "execution_count": null,
      "outputs": [
        {
          "output_type": "execute_result",
          "data": {
            "text/plain": [
              "order_id      0\n",
              "time_stamp    0\n",
              "status        0\n",
              "dtype: int64"
            ]
          },
          "metadata": {},
          "execution_count": 46
        }
      ]
    },
    {
      "cell_type": "code",
      "source": [
        "order_items_df.head()"
      ],
      "metadata": {
        "colab": {
          "base_uri": "https://localhost:8080/",
          "height": 206
        },
        "id": "Z4Tii8Lsh-Zq",
        "outputId": "3170c8f5-e4b3-40cf-a55a-af324b886630"
      },
      "execution_count": null,
      "outputs": [
        {
          "output_type": "execute_result",
          "data": {
            "text/plain": [
              "    order_id                items_ordered\n",
              "0  321230114  ['p_025', 'p_032', 'p_037']\n",
              "1  321230115           ['p_017', 'p_012']\n",
              "2  321230116           ['p_027', 'p_037']\n",
              "3  321230117           ['p_004', 'p_029']\n",
              "4  321230118           ['p_017', 'p_037']"
            ],
            "text/html": [
              "\n",
              "  <div id=\"df-216fe5c9-f6f1-4a68-8bb8-3ee03f94f96f\" class=\"colab-df-container\">\n",
              "    <div>\n",
              "<style scoped>\n",
              "    .dataframe tbody tr th:only-of-type {\n",
              "        vertical-align: middle;\n",
              "    }\n",
              "\n",
              "    .dataframe tbody tr th {\n",
              "        vertical-align: top;\n",
              "    }\n",
              "\n",
              "    .dataframe thead th {\n",
              "        text-align: right;\n",
              "    }\n",
              "</style>\n",
              "<table border=\"1\" class=\"dataframe\">\n",
              "  <thead>\n",
              "    <tr style=\"text-align: right;\">\n",
              "      <th></th>\n",
              "      <th>order_id</th>\n",
              "      <th>items_ordered</th>\n",
              "    </tr>\n",
              "  </thead>\n",
              "  <tbody>\n",
              "    <tr>\n",
              "      <th>0</th>\n",
              "      <td>321230114</td>\n",
              "      <td>['p_025', 'p_032', 'p_037']</td>\n",
              "    </tr>\n",
              "    <tr>\n",
              "      <th>1</th>\n",
              "      <td>321230115</td>\n",
              "      <td>['p_017', 'p_012']</td>\n",
              "    </tr>\n",
              "    <tr>\n",
              "      <th>2</th>\n",
              "      <td>321230116</td>\n",
              "      <td>['p_027', 'p_037']</td>\n",
              "    </tr>\n",
              "    <tr>\n",
              "      <th>3</th>\n",
              "      <td>321230117</td>\n",
              "      <td>['p_004', 'p_029']</td>\n",
              "    </tr>\n",
              "    <tr>\n",
              "      <th>4</th>\n",
              "      <td>321230118</td>\n",
              "      <td>['p_017', 'p_037']</td>\n",
              "    </tr>\n",
              "  </tbody>\n",
              "</table>\n",
              "</div>\n",
              "    <div class=\"colab-df-buttons\">\n",
              "\n",
              "  <div class=\"colab-df-container\">\n",
              "    <button class=\"colab-df-convert\" onclick=\"convertToInteractive('df-216fe5c9-f6f1-4a68-8bb8-3ee03f94f96f')\"\n",
              "            title=\"Convert this dataframe to an interactive table.\"\n",
              "            style=\"display:none;\">\n",
              "\n",
              "  <svg xmlns=\"http://www.w3.org/2000/svg\" height=\"24px\" viewBox=\"0 -960 960 960\">\n",
              "    <path d=\"M120-120v-720h720v720H120Zm60-500h600v-160H180v160Zm220 220h160v-160H400v160Zm0 220h160v-160H400v160ZM180-400h160v-160H180v160Zm440 0h160v-160H620v160ZM180-180h160v-160H180v160Zm440 0h160v-160H620v160Z\"/>\n",
              "  </svg>\n",
              "    </button>\n",
              "\n",
              "  <style>\n",
              "    .colab-df-container {\n",
              "      display:flex;\n",
              "      gap: 12px;\n",
              "    }\n",
              "\n",
              "    .colab-df-convert {\n",
              "      background-color: #E8F0FE;\n",
              "      border: none;\n",
              "      border-radius: 50%;\n",
              "      cursor: pointer;\n",
              "      display: none;\n",
              "      fill: #1967D2;\n",
              "      height: 32px;\n",
              "      padding: 0 0 0 0;\n",
              "      width: 32px;\n",
              "    }\n",
              "\n",
              "    .colab-df-convert:hover {\n",
              "      background-color: #E2EBFA;\n",
              "      box-shadow: 0px 1px 2px rgba(60, 64, 67, 0.3), 0px 1px 3px 1px rgba(60, 64, 67, 0.15);\n",
              "      fill: #174EA6;\n",
              "    }\n",
              "\n",
              "    .colab-df-buttons div {\n",
              "      margin-bottom: 4px;\n",
              "    }\n",
              "\n",
              "    [theme=dark] .colab-df-convert {\n",
              "      background-color: #3B4455;\n",
              "      fill: #D2E3FC;\n",
              "    }\n",
              "\n",
              "    [theme=dark] .colab-df-convert:hover {\n",
              "      background-color: #434B5C;\n",
              "      box-shadow: 0px 1px 3px 1px rgba(0, 0, 0, 0.15);\n",
              "      filter: drop-shadow(0px 1px 2px rgba(0, 0, 0, 0.3));\n",
              "      fill: #FFFFFF;\n",
              "    }\n",
              "  </style>\n",
              "\n",
              "    <script>\n",
              "      const buttonEl =\n",
              "        document.querySelector('#df-216fe5c9-f6f1-4a68-8bb8-3ee03f94f96f button.colab-df-convert');\n",
              "      buttonEl.style.display =\n",
              "        google.colab.kernel.accessAllowed ? 'block' : 'none';\n",
              "\n",
              "      async function convertToInteractive(key) {\n",
              "        const element = document.querySelector('#df-216fe5c9-f6f1-4a68-8bb8-3ee03f94f96f');\n",
              "        const dataTable =\n",
              "          await google.colab.kernel.invokeFunction('convertToInteractive',\n",
              "                                                    [key], {});\n",
              "        if (!dataTable) return;\n",
              "\n",
              "        const docLinkHtml = 'Like what you see? Visit the ' +\n",
              "          '<a target=\"_blank\" href=https://colab.research.google.com/notebooks/data_table.ipynb>data table notebook</a>'\n",
              "          + ' to learn more about interactive tables.';\n",
              "        element.innerHTML = '';\n",
              "        dataTable['output_type'] = 'display_data';\n",
              "        await google.colab.output.renderOutput(dataTable, element);\n",
              "        const docLink = document.createElement('div');\n",
              "        docLink.innerHTML = docLinkHtml;\n",
              "        element.appendChild(docLink);\n",
              "      }\n",
              "    </script>\n",
              "  </div>\n",
              "\n",
              "\n",
              "<div id=\"df-5fa02dc1-d7c9-4fe7-bce3-e55cab9118ef\">\n",
              "  <button class=\"colab-df-quickchart\" onclick=\"quickchart('df-5fa02dc1-d7c9-4fe7-bce3-e55cab9118ef')\"\n",
              "            title=\"Suggest charts\"\n",
              "            style=\"display:none;\">\n",
              "\n",
              "<svg xmlns=\"http://www.w3.org/2000/svg\" height=\"24px\"viewBox=\"0 0 24 24\"\n",
              "     width=\"24px\">\n",
              "    <g>\n",
              "        <path d=\"M19 3H5c-1.1 0-2 .9-2 2v14c0 1.1.9 2 2 2h14c1.1 0 2-.9 2-2V5c0-1.1-.9-2-2-2zM9 17H7v-7h2v7zm4 0h-2V7h2v10zm4 0h-2v-4h2v4z\"/>\n",
              "    </g>\n",
              "</svg>\n",
              "  </button>\n",
              "\n",
              "<style>\n",
              "  .colab-df-quickchart {\n",
              "      --bg-color: #E8F0FE;\n",
              "      --fill-color: #1967D2;\n",
              "      --hover-bg-color: #E2EBFA;\n",
              "      --hover-fill-color: #174EA6;\n",
              "      --disabled-fill-color: #AAA;\n",
              "      --disabled-bg-color: #DDD;\n",
              "  }\n",
              "\n",
              "  [theme=dark] .colab-df-quickchart {\n",
              "      --bg-color: #3B4455;\n",
              "      --fill-color: #D2E3FC;\n",
              "      --hover-bg-color: #434B5C;\n",
              "      --hover-fill-color: #FFFFFF;\n",
              "      --disabled-bg-color: #3B4455;\n",
              "      --disabled-fill-color: #666;\n",
              "  }\n",
              "\n",
              "  .colab-df-quickchart {\n",
              "    background-color: var(--bg-color);\n",
              "    border: none;\n",
              "    border-radius: 50%;\n",
              "    cursor: pointer;\n",
              "    display: none;\n",
              "    fill: var(--fill-color);\n",
              "    height: 32px;\n",
              "    padding: 0;\n",
              "    width: 32px;\n",
              "  }\n",
              "\n",
              "  .colab-df-quickchart:hover {\n",
              "    background-color: var(--hover-bg-color);\n",
              "    box-shadow: 0 1px 2px rgba(60, 64, 67, 0.3), 0 1px 3px 1px rgba(60, 64, 67, 0.15);\n",
              "    fill: var(--button-hover-fill-color);\n",
              "  }\n",
              "\n",
              "  .colab-df-quickchart-complete:disabled,\n",
              "  .colab-df-quickchart-complete:disabled:hover {\n",
              "    background-color: var(--disabled-bg-color);\n",
              "    fill: var(--disabled-fill-color);\n",
              "    box-shadow: none;\n",
              "  }\n",
              "\n",
              "  .colab-df-spinner {\n",
              "    border: 2px solid var(--fill-color);\n",
              "    border-color: transparent;\n",
              "    border-bottom-color: var(--fill-color);\n",
              "    animation:\n",
              "      spin 1s steps(1) infinite;\n",
              "  }\n",
              "\n",
              "  @keyframes spin {\n",
              "    0% {\n",
              "      border-color: transparent;\n",
              "      border-bottom-color: var(--fill-color);\n",
              "      border-left-color: var(--fill-color);\n",
              "    }\n",
              "    20% {\n",
              "      border-color: transparent;\n",
              "      border-left-color: var(--fill-color);\n",
              "      border-top-color: var(--fill-color);\n",
              "    }\n",
              "    30% {\n",
              "      border-color: transparent;\n",
              "      border-left-color: var(--fill-color);\n",
              "      border-top-color: var(--fill-color);\n",
              "      border-right-color: var(--fill-color);\n",
              "    }\n",
              "    40% {\n",
              "      border-color: transparent;\n",
              "      border-right-color: var(--fill-color);\n",
              "      border-top-color: var(--fill-color);\n",
              "    }\n",
              "    60% {\n",
              "      border-color: transparent;\n",
              "      border-right-color: var(--fill-color);\n",
              "    }\n",
              "    80% {\n",
              "      border-color: transparent;\n",
              "      border-right-color: var(--fill-color);\n",
              "      border-bottom-color: var(--fill-color);\n",
              "    }\n",
              "    90% {\n",
              "      border-color: transparent;\n",
              "      border-bottom-color: var(--fill-color);\n",
              "    }\n",
              "  }\n",
              "</style>\n",
              "\n",
              "  <script>\n",
              "    async function quickchart(key) {\n",
              "      const quickchartButtonEl =\n",
              "        document.querySelector('#' + key + ' button');\n",
              "      quickchartButtonEl.disabled = true;  // To prevent multiple clicks.\n",
              "      quickchartButtonEl.classList.add('colab-df-spinner');\n",
              "      try {\n",
              "        const charts = await google.colab.kernel.invokeFunction(\n",
              "            'suggestCharts', [key], {});\n",
              "      } catch (error) {\n",
              "        console.error('Error during call to suggestCharts:', error);\n",
              "      }\n",
              "      quickchartButtonEl.classList.remove('colab-df-spinner');\n",
              "      quickchartButtonEl.classList.add('colab-df-quickchart-complete');\n",
              "    }\n",
              "    (() => {\n",
              "      let quickchartButtonEl =\n",
              "        document.querySelector('#df-5fa02dc1-d7c9-4fe7-bce3-e55cab9118ef button');\n",
              "      quickchartButtonEl.style.display =\n",
              "        google.colab.kernel.accessAllowed ? 'block' : 'none';\n",
              "    })();\n",
              "  </script>\n",
              "</div>\n",
              "\n",
              "    </div>\n",
              "  </div>\n"
            ]
          },
          "metadata": {},
          "execution_count": 47
        }
      ]
    },
    {
      "cell_type": "code",
      "source": [
        "order_items_df.isnull().sum()"
      ],
      "metadata": {
        "colab": {
          "base_uri": "https://localhost:8080/"
        },
        "id": "Y2HV0gJFiGW8",
        "outputId": "aa19c1c8-11fc-4459-d185-8d5acf30e813"
      },
      "execution_count": null,
      "outputs": [
        {
          "output_type": "execute_result",
          "data": {
            "text/plain": [
              "order_id         0\n",
              "items_ordered    0\n",
              "dtype: int64"
            ]
          },
          "metadata": {},
          "execution_count": 49
        }
      ]
    },
    {
      "cell_type": "code",
      "source": [
        "orders_df.head()"
      ],
      "metadata": {
        "colab": {
          "base_uri": "https://localhost:8080/",
          "height": 206
        },
        "id": "otgZasMgiSRV",
        "outputId": "779bb999-cb11-4525-def4-543a43a319c4"
      },
      "execution_count": null,
      "outputs": [
        {
          "output_type": "execute_result",
          "data": {
            "text/plain": [
              "    order_id      order_placed_at\n",
              "0  321230114  2020-12-11 00:01:29\n",
              "1  321230115  2020-12-11 00:36:02\n",
              "2  321230116  2020-12-11 00:55:01\n",
              "3  321230117  2020-12-11 01:05:27\n",
              "4  321230118  2020-12-11 01:14:20"
            ],
            "text/html": [
              "\n",
              "  <div id=\"df-4a9815a4-4aad-4082-a880-50233072e83e\" class=\"colab-df-container\">\n",
              "    <div>\n",
              "<style scoped>\n",
              "    .dataframe tbody tr th:only-of-type {\n",
              "        vertical-align: middle;\n",
              "    }\n",
              "\n",
              "    .dataframe tbody tr th {\n",
              "        vertical-align: top;\n",
              "    }\n",
              "\n",
              "    .dataframe thead th {\n",
              "        text-align: right;\n",
              "    }\n",
              "</style>\n",
              "<table border=\"1\" class=\"dataframe\">\n",
              "  <thead>\n",
              "    <tr style=\"text-align: right;\">\n",
              "      <th></th>\n",
              "      <th>order_id</th>\n",
              "      <th>order_placed_at</th>\n",
              "    </tr>\n",
              "  </thead>\n",
              "  <tbody>\n",
              "    <tr>\n",
              "      <th>0</th>\n",
              "      <td>321230114</td>\n",
              "      <td>2020-12-11 00:01:29</td>\n",
              "    </tr>\n",
              "    <tr>\n",
              "      <th>1</th>\n",
              "      <td>321230115</td>\n",
              "      <td>2020-12-11 00:36:02</td>\n",
              "    </tr>\n",
              "    <tr>\n",
              "      <th>2</th>\n",
              "      <td>321230116</td>\n",
              "      <td>2020-12-11 00:55:01</td>\n",
              "    </tr>\n",
              "    <tr>\n",
              "      <th>3</th>\n",
              "      <td>321230117</td>\n",
              "      <td>2020-12-11 01:05:27</td>\n",
              "    </tr>\n",
              "    <tr>\n",
              "      <th>4</th>\n",
              "      <td>321230118</td>\n",
              "      <td>2020-12-11 01:14:20</td>\n",
              "    </tr>\n",
              "  </tbody>\n",
              "</table>\n",
              "</div>\n",
              "    <div class=\"colab-df-buttons\">\n",
              "\n",
              "  <div class=\"colab-df-container\">\n",
              "    <button class=\"colab-df-convert\" onclick=\"convertToInteractive('df-4a9815a4-4aad-4082-a880-50233072e83e')\"\n",
              "            title=\"Convert this dataframe to an interactive table.\"\n",
              "            style=\"display:none;\">\n",
              "\n",
              "  <svg xmlns=\"http://www.w3.org/2000/svg\" height=\"24px\" viewBox=\"0 -960 960 960\">\n",
              "    <path d=\"M120-120v-720h720v720H120Zm60-500h600v-160H180v160Zm220 220h160v-160H400v160Zm0 220h160v-160H400v160ZM180-400h160v-160H180v160Zm440 0h160v-160H620v160ZM180-180h160v-160H180v160Zm440 0h160v-160H620v160Z\"/>\n",
              "  </svg>\n",
              "    </button>\n",
              "\n",
              "  <style>\n",
              "    .colab-df-container {\n",
              "      display:flex;\n",
              "      gap: 12px;\n",
              "    }\n",
              "\n",
              "    .colab-df-convert {\n",
              "      background-color: #E8F0FE;\n",
              "      border: none;\n",
              "      border-radius: 50%;\n",
              "      cursor: pointer;\n",
              "      display: none;\n",
              "      fill: #1967D2;\n",
              "      height: 32px;\n",
              "      padding: 0 0 0 0;\n",
              "      width: 32px;\n",
              "    }\n",
              "\n",
              "    .colab-df-convert:hover {\n",
              "      background-color: #E2EBFA;\n",
              "      box-shadow: 0px 1px 2px rgba(60, 64, 67, 0.3), 0px 1px 3px 1px rgba(60, 64, 67, 0.15);\n",
              "      fill: #174EA6;\n",
              "    }\n",
              "\n",
              "    .colab-df-buttons div {\n",
              "      margin-bottom: 4px;\n",
              "    }\n",
              "\n",
              "    [theme=dark] .colab-df-convert {\n",
              "      background-color: #3B4455;\n",
              "      fill: #D2E3FC;\n",
              "    }\n",
              "\n",
              "    [theme=dark] .colab-df-convert:hover {\n",
              "      background-color: #434B5C;\n",
              "      box-shadow: 0px 1px 3px 1px rgba(0, 0, 0, 0.15);\n",
              "      filter: drop-shadow(0px 1px 2px rgba(0, 0, 0, 0.3));\n",
              "      fill: #FFFFFF;\n",
              "    }\n",
              "  </style>\n",
              "\n",
              "    <script>\n",
              "      const buttonEl =\n",
              "        document.querySelector('#df-4a9815a4-4aad-4082-a880-50233072e83e button.colab-df-convert');\n",
              "      buttonEl.style.display =\n",
              "        google.colab.kernel.accessAllowed ? 'block' : 'none';\n",
              "\n",
              "      async function convertToInteractive(key) {\n",
              "        const element = document.querySelector('#df-4a9815a4-4aad-4082-a880-50233072e83e');\n",
              "        const dataTable =\n",
              "          await google.colab.kernel.invokeFunction('convertToInteractive',\n",
              "                                                    [key], {});\n",
              "        if (!dataTable) return;\n",
              "\n",
              "        const docLinkHtml = 'Like what you see? Visit the ' +\n",
              "          '<a target=\"_blank\" href=https://colab.research.google.com/notebooks/data_table.ipynb>data table notebook</a>'\n",
              "          + ' to learn more about interactive tables.';\n",
              "        element.innerHTML = '';\n",
              "        dataTable['output_type'] = 'display_data';\n",
              "        await google.colab.output.renderOutput(dataTable, element);\n",
              "        const docLink = document.createElement('div');\n",
              "        docLink.innerHTML = docLinkHtml;\n",
              "        element.appendChild(docLink);\n",
              "      }\n",
              "    </script>\n",
              "  </div>\n",
              "\n",
              "\n",
              "<div id=\"df-a756b92d-67ce-4525-95fe-859d701a10e9\">\n",
              "  <button class=\"colab-df-quickchart\" onclick=\"quickchart('df-a756b92d-67ce-4525-95fe-859d701a10e9')\"\n",
              "            title=\"Suggest charts\"\n",
              "            style=\"display:none;\">\n",
              "\n",
              "<svg xmlns=\"http://www.w3.org/2000/svg\" height=\"24px\"viewBox=\"0 0 24 24\"\n",
              "     width=\"24px\">\n",
              "    <g>\n",
              "        <path d=\"M19 3H5c-1.1 0-2 .9-2 2v14c0 1.1.9 2 2 2h14c1.1 0 2-.9 2-2V5c0-1.1-.9-2-2-2zM9 17H7v-7h2v7zm4 0h-2V7h2v10zm4 0h-2v-4h2v4z\"/>\n",
              "    </g>\n",
              "</svg>\n",
              "  </button>\n",
              "\n",
              "<style>\n",
              "  .colab-df-quickchart {\n",
              "      --bg-color: #E8F0FE;\n",
              "      --fill-color: #1967D2;\n",
              "      --hover-bg-color: #E2EBFA;\n",
              "      --hover-fill-color: #174EA6;\n",
              "      --disabled-fill-color: #AAA;\n",
              "      --disabled-bg-color: #DDD;\n",
              "  }\n",
              "\n",
              "  [theme=dark] .colab-df-quickchart {\n",
              "      --bg-color: #3B4455;\n",
              "      --fill-color: #D2E3FC;\n",
              "      --hover-bg-color: #434B5C;\n",
              "      --hover-fill-color: #FFFFFF;\n",
              "      --disabled-bg-color: #3B4455;\n",
              "      --disabled-fill-color: #666;\n",
              "  }\n",
              "\n",
              "  .colab-df-quickchart {\n",
              "    background-color: var(--bg-color);\n",
              "    border: none;\n",
              "    border-radius: 50%;\n",
              "    cursor: pointer;\n",
              "    display: none;\n",
              "    fill: var(--fill-color);\n",
              "    height: 32px;\n",
              "    padding: 0;\n",
              "    width: 32px;\n",
              "  }\n",
              "\n",
              "  .colab-df-quickchart:hover {\n",
              "    background-color: var(--hover-bg-color);\n",
              "    box-shadow: 0 1px 2px rgba(60, 64, 67, 0.3), 0 1px 3px 1px rgba(60, 64, 67, 0.15);\n",
              "    fill: var(--button-hover-fill-color);\n",
              "  }\n",
              "\n",
              "  .colab-df-quickchart-complete:disabled,\n",
              "  .colab-df-quickchart-complete:disabled:hover {\n",
              "    background-color: var(--disabled-bg-color);\n",
              "    fill: var(--disabled-fill-color);\n",
              "    box-shadow: none;\n",
              "  }\n",
              "\n",
              "  .colab-df-spinner {\n",
              "    border: 2px solid var(--fill-color);\n",
              "    border-color: transparent;\n",
              "    border-bottom-color: var(--fill-color);\n",
              "    animation:\n",
              "      spin 1s steps(1) infinite;\n",
              "  }\n",
              "\n",
              "  @keyframes spin {\n",
              "    0% {\n",
              "      border-color: transparent;\n",
              "      border-bottom-color: var(--fill-color);\n",
              "      border-left-color: var(--fill-color);\n",
              "    }\n",
              "    20% {\n",
              "      border-color: transparent;\n",
              "      border-left-color: var(--fill-color);\n",
              "      border-top-color: var(--fill-color);\n",
              "    }\n",
              "    30% {\n",
              "      border-color: transparent;\n",
              "      border-left-color: var(--fill-color);\n",
              "      border-top-color: var(--fill-color);\n",
              "      border-right-color: var(--fill-color);\n",
              "    }\n",
              "    40% {\n",
              "      border-color: transparent;\n",
              "      border-right-color: var(--fill-color);\n",
              "      border-top-color: var(--fill-color);\n",
              "    }\n",
              "    60% {\n",
              "      border-color: transparent;\n",
              "      border-right-color: var(--fill-color);\n",
              "    }\n",
              "    80% {\n",
              "      border-color: transparent;\n",
              "      border-right-color: var(--fill-color);\n",
              "      border-bottom-color: var(--fill-color);\n",
              "    }\n",
              "    90% {\n",
              "      border-color: transparent;\n",
              "      border-bottom-color: var(--fill-color);\n",
              "    }\n",
              "  }\n",
              "</style>\n",
              "\n",
              "  <script>\n",
              "    async function quickchart(key) {\n",
              "      const quickchartButtonEl =\n",
              "        document.querySelector('#' + key + ' button');\n",
              "      quickchartButtonEl.disabled = true;  // To prevent multiple clicks.\n",
              "      quickchartButtonEl.classList.add('colab-df-spinner');\n",
              "      try {\n",
              "        const charts = await google.colab.kernel.invokeFunction(\n",
              "            'suggestCharts', [key], {});\n",
              "      } catch (error) {\n",
              "        console.error('Error during call to suggestCharts:', error);\n",
              "      }\n",
              "      quickchartButtonEl.classList.remove('colab-df-spinner');\n",
              "      quickchartButtonEl.classList.add('colab-df-quickchart-complete');\n",
              "    }\n",
              "    (() => {\n",
              "      let quickchartButtonEl =\n",
              "        document.querySelector('#df-a756b92d-67ce-4525-95fe-859d701a10e9 button');\n",
              "      quickchartButtonEl.style.display =\n",
              "        google.colab.kernel.accessAllowed ? 'block' : 'none';\n",
              "    })();\n",
              "  </script>\n",
              "</div>\n",
              "\n",
              "    </div>\n",
              "  </div>\n"
            ]
          },
          "metadata": {},
          "execution_count": 50
        }
      ]
    },
    {
      "cell_type": "code",
      "source": [
        "orders_df.isnull().sum()"
      ],
      "metadata": {
        "colab": {
          "base_uri": "https://localhost:8080/"
        },
        "id": "QCh33cKpilHd",
        "outputId": "9f3eef2c-cfc1-4204-bbdf-9c87311d7ba0"
      },
      "execution_count": null,
      "outputs": [
        {
          "output_type": "execute_result",
          "data": {
            "text/plain": [
              "order_id           0\n",
              "order_placed_at    0\n",
              "dtype: int64"
            ]
          },
          "metadata": {},
          "execution_count": 51
        }
      ]
    },
    {
      "cell_type": "code",
      "source": [
        "merged_df = pd.merge(deliveries_df, orders_df, on='order_id')\n",
        "\n",
        "merged_df['time_stamp'] = pd.to_datetime(merged_df['time_stamp'])\n",
        "merged_df['order_placed_at'] = pd.to_datetime(merged_df['order_placed_at'])\n",
        "\n",
        "merged_df['delivery_time'] = (merged_df['time_stamp'] - merged_df['order_placed_at']).dt.total_seconds() / 60\n",
        "delivered_orders_df = merged_df[merged_df['status'] == 'Delivered']\n",
        "average_delivery_time = round(delivered_orders_df['delivery_time'].mean(), 2)\n",
        "print(\"Average Delivery Time for Pizza Orders:\", average_delivery_time, \"minutes\")\n"
      ],
      "metadata": {
        "colab": {
          "base_uri": "https://localhost:8080/"
        },
        "id": "-QJztEflcchW",
        "outputId": "c5362ac0-bbda-45be-d29b-964343d381f5"
      },
      "execution_count": null,
      "outputs": [
        {
          "output_type": "stream",
          "name": "stdout",
          "text": [
            "Average Delivery Time for Pizza Orders: 20.65 minutes\n"
          ]
        }
      ]
    },
    {
      "cell_type": "code",
      "source": [
        "percentile_99_delivery_time = round(delivered_orders_df['delivery_time'].quantile(0.99), 2)\n",
        "\n",
        "print(\"99th Percentile Delivery Time for all Orders:\", percentile_99_delivery_time, \"minutes\")"
      ],
      "metadata": {
        "colab": {
          "base_uri": "https://localhost:8080/"
        },
        "id": "f5UQhwJleL7Y",
        "outputId": "76b1a936-3ce1-4d7c-83b2-3ba0edf4257b"
      },
      "execution_count": null,
      "outputs": [
        {
          "output_type": "stream",
          "name": "stdout",
          "text": [
            "99th Percentile Delivery Time for all Orders: 30.9 minutes\n"
          ]
        }
      ]
    },
    {
      "cell_type": "code",
      "source": [
        "max_delivery_time_row = merged_df.loc[merged_df['delivery_time'].idxmax()]\n",
        "order_id_max_delivery_time = max_delivery_time_row['order_id']\n",
        "\n",
        "print(\"Order ID with the Maximum Delivery Time:\", order_id_max_delivery_time)"
      ],
      "metadata": {
        "colab": {
          "base_uri": "https://localhost:8080/"
        },
        "id": "WAqg8_QAhXVp",
        "outputId": "a3cbdfeb-82e1-49e8-fd46-426f0d093859"
      },
      "execution_count": null,
      "outputs": [
        {
          "output_type": "stream",
          "name": "stdout",
          "text": [
            "Order ID with the Maximum Delivery Time: 321629049\n"
          ]
        }
      ]
    },
    {
      "cell_type": "code",
      "source": [
        "merged_df = pd.merge(deliveries_df, orders_df, on='order_id')\n",
        "merged_df = pd.merge(merged_df, order_items_df, on='order_id')\n",
        "merged_df['order_placed_at'] = pd.to_datetime(merged_df['order_placed_at'], format='%Y-%m-%d %H:%M:%S')\n",
        "january_orders_df = merged_df[(merged_df['order_placed_at'] >= '2024-01-01') & (merged_df['order_placed_at'] <= '2024-01-31') & (merged_df['status']=='Delivered')]\n",
        "january_orders_df['items_ordered'] = january_orders_df['items_ordered'].apply(lambda x: x.replace('p_037', ''))\n",
        "print(january_orders_df)\n",
        "num_pizzas_ordered = january_orders_df['items_ordered'].str.count('p_0').sum()\n",
        "\n",
        "print(\"Number of Pizzas Ordered between January 1st and January 31st, 2024:\", num_pizzas_ordered)\n"
      ],
      "metadata": {
        "colab": {
          "base_uri": "https://localhost:8080/"
        },
        "id": "cObftOKHhdeu",
        "outputId": "ebc23294-e8a5-4ec0-f457-4bfb4a9d2bcc"
      },
      "execution_count": null,
      "outputs": [
        {
          "output_type": "stream",
          "name": "stdout",
          "text": [
            "          order_id                     time_stamp     status  \\\n",
            "1326098  321672146  2024-01-01 00:21:44.105365820  Delivered   \n",
            "1326101  321672147  2024-01-01 00:31:05.366818534  Delivered   \n",
            "1326104  321672148  2024-01-01 00:31:30.702273281  Delivered   \n",
            "1326107  321672149  2024-01-01 00:38:28.968308274  Delivered   \n",
            "1326110  321672150  2024-01-01 00:35:59.546601236  Delivered   \n",
            "...            ...                            ...        ...   \n",
            "1361765  321684035  2024-01-30 23:34:22.107470052  Delivered   \n",
            "1361768  321684036  2024-01-31 00:03:26.149642952  Delivered   \n",
            "1361771  321684037  2024-01-31 00:08:18.420687791  Delivered   \n",
            "1361774  321684038  2024-01-31 00:08:53.167344892  Delivered   \n",
            "1361777  321684039  2024-01-31 00:15:03.186348348  Delivered   \n",
            "\n",
            "            order_placed_at           items_ordered  \n",
            "1326098 2024-01-01 00:02:30           ['p_020', '']  \n",
            "1326101 2024-01-01 00:08:01  ['p_004', 'p_031', '']  \n",
            "1326104 2024-01-01 00:13:57  ['p_009', 'p_002', '']  \n",
            "1326107 2024-01-01 00:18:59  ['p_008', 'p_029', '']  \n",
            "1326110 2024-01-01 00:19:12           ['p_011', '']  \n",
            "...                     ...                     ...  \n",
            "1361765 2024-01-30 23:16:02      ['p_035', 'p_031']  \n",
            "1361768 2024-01-30 23:33:54      ['p_016', 'p_010']  \n",
            "1361771 2024-01-30 23:48:49               ['p_035']  \n",
            "1361774 2024-01-30 23:49:40  ['p_035', 'p_028', '']  \n",
            "1361777 2024-01-30 23:54:03  ['p_036', 'p_019', '']  \n",
            "\n",
            "[11894 rows x 5 columns]\n",
            "Number of Pizzas Ordered between January 1st and January 31st, 2024: 20254\n"
          ]
        },
        {
          "output_type": "stream",
          "name": "stderr",
          "text": [
            "<ipython-input-41-fc9a36d2231a>:5: SettingWithCopyWarning: \n",
            "A value is trying to be set on a copy of a slice from a DataFrame.\n",
            "Try using .loc[row_indexer,col_indexer] = value instead\n",
            "\n",
            "See the caveats in the documentation: https://pandas.pydata.org/pandas-docs/stable/user_guide/indexing.html#returning-a-view-versus-a-copy\n",
            "  january_orders_df['items_ordered'] = january_orders_df['items_ordered'].apply(lambda x: x.replace('p_037', ''))\n"
          ]
        }
      ]
    },
    {
      "cell_type": "code",
      "source": [
        "merged_df = pd.merge(deliveries_df, orders_df, on='order_id')\n",
        "merged_df['time_stamp'] = pd.to_datetime(merged_df['time_stamp'])\n",
        "merged_df['delivery_time'] = (merged_df['time_stamp'] - pd.to_datetime(merged_df['order_placed_at'], format='%Y-%m-%d %H:%M:%S')).dt.total_seconds() / 60\n",
        "january_orders_df = merged_df[(merged_df['order_placed_at'] >= '2024-01-01') & (merged_df['order_placed_at'] <= '2024-01-31')]\n",
        "\n",
        "num_orders_gt_30_minutes = january_orders_df[january_orders_df['delivery_time'] > 30].shape[0]\n",
        "print(\"Number of orders took more than 30 minutes to deliver between 1st January and 31st January 2024:\", num_orders_gt_30_minutes)\n"
      ],
      "metadata": {
        "colab": {
          "base_uri": "https://localhost:8080/"
        },
        "id": "zeEDujBd060c",
        "outputId": "ecf38616-478c-41c5-e7f4-9edeaa35321b"
      },
      "execution_count": null,
      "outputs": [
        {
          "output_type": "stream",
          "name": "stdout",
          "text": [
            "Number of orders took more than 30 minutes to deliver between 1st January and 31st January 2024: 162\n"
          ]
        }
      ]
    },
    {
      "cell_type": "code",
      "source": [
        "merged_df = pd.merge(deliveries_df, orders_df, on='order_id')\n",
        "merged_df['time_stamp'] = pd.to_datetime(merged_df['time_stamp'])\n",
        "\n",
        "merged_df['order_placed_at'] = pd.to_datetime(merged_df['order_placed_at'], format='%Y-%m-%d %H:%M:%S')\n",
        "\n",
        "merged_df['delivery_time'] = (merged_df['time_stamp'] - merged_df['order_placed_at']).dt.total_seconds() / 60\n",
        "\n",
        "filtered_df = merged_df[(merged_df['status'] == 'Delivered') &\n",
        "                        (merged_df['delivery_time'] > 30) &\n",
        "                        (merged_df['order_placed_at'].dt.year == 2023)]\n",
        "\n",
        "exploded_order_items_df = order_items_df.assign(items_ordered=order_items_df['items_ordered'].str.replace(\"'\", \"\").str.replace(\"[\", \"\").str.replace(\"]\", \"\").str.split(', ')).explode('items_ordered')\n",
        "\n",
        "merged_items_df = pd.merge(exploded_order_items_df, filtered_df, on='order_id')\n",
        "\n",
        "total_price = 0\n",
        "\n",
        "for item_id in merged_items_df['items_ordered']:\n",
        "    product_row = products_df[products_df['item_id'] == item_id]\n",
        "    if not product_row.empty:\n",
        "        total_price += product_row['Price'].iloc[0]\n",
        "\n",
        "print(\"Total price of items ordered in 2023 with delivery time > 30 minutes:\", total_price)\n"
      ],
      "metadata": {
        "colab": {
          "base_uri": "https://localhost:8080/"
        },
        "id": "s_3PvXd--XTM",
        "outputId": "bbf96c4b-c173-4787-a847-8753695f7acf"
      },
      "execution_count": null,
      "outputs": [
        {
          "output_type": "stream",
          "name": "stderr",
          "text": [
            "<ipython-input-53-86a6b03ffe86>:18: FutureWarning: The default value of regex will change from True to False in a future version. In addition, single character regular expressions will *not* be treated as literal strings when regex=True.\n",
            "  exploded_order_items_df = order_items_df.assign(items_ordered=order_items_df['items_ordered'].str.replace(\"'\", \"\").str.replace(\"[\", \"\").str.replace(\"]\", \"\").str.split(', ')).explode('items_ordered')\n"
          ]
        },
        {
          "output_type": "stream",
          "name": "stdout",
          "text": [
            "Total price of items ordered in 2023 with delivery time > 30 minutes: 1826393\n"
          ]
        }
      ]
    },
    {
      "cell_type": "code",
      "source": [
        "merged_df = pd.merge(deliveries_df, orders_df, on='order_id')\n",
        "merged_df['time_stamp'] = pd.to_datetime(merged_df['time_stamp'])\n",
        "\n",
        "merged_df['order_placed_at'] = pd.to_datetime(merged_df['order_placed_at'], format='%Y-%m-%d %H:%M:%S')\n",
        "\n",
        "merged_df['delivery_time'] = (merged_df['time_stamp'] - merged_df['order_placed_at']).dt.total_seconds() / 60\n",
        "\n",
        "filtered_df = merged_df[(merged_df['status'] == 'Delivered') &\n",
        "                        (merged_df['delivery_time'] > 30) ]\n",
        "\n",
        "exploded_order_items_df = order_items_df.assign(items_ordered=order_items_df['items_ordered'].str.replace(\"'\", \"\").str.replace(\"[\", \"\").str.replace(\"]\", \"\").str.split(', ')).explode('items_ordered')\n",
        "\n",
        "df = pd.merge(exploded_order_items_df, filtered_df, on='order_id')\n",
        "\n",
        "df['time_stamp'] = pd.to_datetime(df['time_stamp'])\n",
        "\n",
        "grouped_by_year = df.groupby(df['time_stamp'].dt.year)\n",
        "\n",
        "result_by_year = {}\n",
        "\n",
        "for year, group in grouped_by_year:\n",
        "    total_price_year = 0\n",
        "\n",
        "    for item in group['items_ordered']:\n",
        "        price = products_df[products_df['item_id'] == item]['Price'].values[0]\n",
        "        total_price_year += price\n",
        "\n",
        "    result_by_year[year] = total_price_year\n",
        "\n",
        "count=0\n",
        "print(\"Total prices by year:\")\n",
        "for year, total_price_year in result_by_year.items():\n",
        "    count+=total_price_year\n",
        "    print(f\"Year {year}: {total_price_year:.2f}\")\n",
        "\n",
        "print(count)"
      ],
      "metadata": {
        "colab": {
          "base_uri": "https://localhost:8080/"
        },
        "id": "IIA5qM1KBeHr",
        "outputId": "f1dbc75b-b0ea-4763-c778-485445a27c3c"
      },
      "execution_count": null,
      "outputs": [
        {
          "output_type": "stream",
          "name": "stderr",
          "text": [
            "<ipython-input-72-e06c45690b2c>:16: FutureWarning: The default value of regex will change from True to False in a future version. In addition, single character regular expressions will *not* be treated as literal strings when regex=True.\n",
            "  exploded_order_items_df = order_items_df.assign(items_ordered=order_items_df['items_ordered'].str.replace(\"'\", \"\").str.replace(\"[\", \"\").str.replace(\"]\", \"\").str.split(', ')).explode('items_ordered')\n"
          ]
        },
        {
          "output_type": "stream",
          "name": "stdout",
          "text": [
            "Total prices by year:\n",
            "Year 2020: 96688.00\n",
            "Year 2021: 1791568.00\n",
            "Year 2022: 1664113.00\n",
            "Year 2023: 1826393.00\n",
            "Year 2024: 145669.00\n",
            "5524431\n"
          ]
        }
      ]
    },
    {
      "cell_type": "code",
      "source": [
        "\n",
        "merged_df = pd.merge(deliveries_df, orders_df, on='order_id')\n",
        "merged_df['time_stamp'] = pd.to_datetime(merged_df['time_stamp'])\n",
        "\n",
        "merged_df['order_placed_at'] = pd.to_datetime(merged_df['order_placed_at'], format='%Y-%m-%d %H:%M:%S')\n",
        "\n",
        "merged_df['delivery_time'] = (merged_df['time_stamp'] - merged_df['order_placed_at']).dt.total_seconds() / 60\n",
        "\n",
        "filtered_df = merged_df[(merged_df['status'] == 'Delivered') &\n",
        "                        (merged_df['delivery_time'] <= 30) ]\n",
        "\n",
        "exploded_order_items_df = order_items_df.assign(items_ordered=order_items_df['items_ordered'].str.replace(\"'\", \"\").str.replace(\"[\", \"\").str.replace(\"]\", \"\").str.split(', ')).explode('items_ordered')\n",
        "\n",
        "merged_items_df = pd.merge(exploded_order_items_df, filtered_df, on='order_id')\n",
        "print(merged_items_df)\n",
        "total_price = 0\n",
        "\n",
        "for item_id in merged_items_df['items_ordered']:\n",
        "    product_row = products_df[products_df['item_id'] == item_id]\n",
        "    if not product_row.empty:\n",
        "        total_price += product_row['Price'].iloc[0]\n",
        "\n",
        "print(\"Total price of items ordered in 2023 with delivery time < 30 minutes:\", total_price-count)"
      ],
      "metadata": {
        "colab": {
          "base_uri": "https://localhost:8080/"
        },
        "id": "IMixYJKeGGuI",
        "outputId": "bab7e024-c143-412c-fa09-bedb53257d00"
      },
      "execution_count": null,
      "outputs": [
        {
          "output_type": "stream",
          "name": "stderr",
          "text": [
            "<ipython-input-73-a9c6e9d24469>:17: FutureWarning: The default value of regex will change from True to False in a future version. In addition, single character regular expressions will *not* be treated as literal strings when regex=True.\n",
            "  exploded_order_items_df = order_items_df.assign(items_ordered=order_items_df['items_ordered'].str.replace(\"'\", \"\").str.replace(\"[\", \"\").str.replace(\"]\", \"\").str.split(', ')).explode('items_ordered')\n"
          ]
        },
        {
          "output_type": "stream",
          "name": "stdout",
          "text": [
            "          order_id items_ordered                    time_stamp     status  \\\n",
            "0        321230114         p_025 2020-12-11 00:19:13.299151076  Delivered   \n",
            "1        321230114         p_032 2020-12-11 00:19:13.299151076  Delivered   \n",
            "2        321230114         p_037 2020-12-11 00:19:13.299151076  Delivered   \n",
            "3        321230115         p_017 2020-12-11 00:59:18.054846609  Delivered   \n",
            "4        321230115         p_012 2020-12-11 00:59:18.054846609  Delivered   \n",
            "...            ...           ...                           ...        ...   \n",
            "1143307  321684448         p_007 2024-02-01 00:17:50.996900711  Delivered   \n",
            "1143308  321684448         p_003 2024-02-01 00:17:50.996900711  Delivered   \n",
            "1143309  321684448         p_037 2024-02-01 00:17:50.996900711  Delivered   \n",
            "1143310  321684449         p_022 2024-02-01 00:14:56.997433391  Delivered   \n",
            "1143311  321684449         p_037 2024-02-01 00:14:56.997433391  Delivered   \n",
            "\n",
            "            order_placed_at  delivery_time  \n",
            "0       2020-12-11 00:01:29      17.738319  \n",
            "1       2020-12-11 00:01:29      17.738319  \n",
            "2       2020-12-11 00:01:29      17.738319  \n",
            "3       2020-12-11 00:36:02      23.267581  \n",
            "4       2020-12-11 00:36:02      23.267581  \n",
            "...                     ...            ...  \n",
            "1143307 2024-01-31 23:58:05      19.766615  \n",
            "1143308 2024-01-31 23:58:05      19.766615  \n",
            "1143309 2024-01-31 23:58:05      19.766615  \n",
            "1143310 2024-01-31 23:55:46      19.183291  \n",
            "1143311 2024-01-31 23:55:46      19.183291  \n",
            "\n",
            "[1143312 rows x 6 columns]\n",
            "Total price of items ordered in 2023 with delivery time < 30 minutes: 396785625\n"
          ]
        }
      ]
    },
    {
      "cell_type": "markdown",
      "source": [
        "Bonus question :\n",
        "\n",
        "Poission distribution can be used to model this data.\n",
        "\n",
        "The pizza store owner can now be ready with all the basic materials he need for making the pizza and the staff optimization for the same (maybe hiring more people in the peak time). This will reduce the time utilised for making the pizza i.e reduce the time between order received and the out for delivery instances, hence delivering the order on time and reducing the loss.\n"
      ],
      "metadata": {
        "id": "vvafiDaDQedK"
      }
    },
    {
      "cell_type": "code",
      "source": [
        "import numpy as np\n",
        "from scipy.stats import poisson\n",
        "import matplotlib.pyplot as plt\n",
        "\n",
        "# Merge deliveries and orders on order_id\n",
        "merged_df = pd.merge(deliveries_df, orders_df, on='order_id')\n",
        "\n",
        "# Convert timestamp to datetime\n",
        "merged_df['time_stamp'] = pd.to_datetime(merged_df['time_stamp'])\n",
        "\n",
        "# Assuming this is the start of the code for grouping and analysis\n",
        "grouped_df = merged_df.copy()\n",
        "grouped_df['Hour'] = grouped_df['time_stamp'].dt.hour\n",
        "\n",
        "# Calculate the number of orders for each hour, month, and year\n",
        "orders_per_hour = grouped_df['order_id'].groupby(grouped_df['Hour']).count()\n",
        "\n",
        "lambda_ = orders_per_hour.mean()\n",
        "\n",
        "dist = poisson(lambda_)\n",
        "\n",
        "x = np.random.poisson(lambda_, size=len(orders_per_hour))\n",
        "plt.figure(figsize=(10, 8))\n",
        "plt.bar(orders_per_hour.index, orders_per_hour, label='Orders per Hour', alpha=0.7)\n",
        "plt.plot(orders_per_hour.index, x, label='Poisson Distribution', color='black', linestyle='solid', marker='o', markerfacecolor='yellow', markersize=5)\n",
        "plt.title('Poisson Distribution against Real Data of Orders')\n",
        "plt.xlabel('Time in Hours(24hr)')\n",
        "plt.ylabel('Number of Orders')\n",
        "plt.legend()\n",
        "plt.show()"
      ],
      "metadata": {
        "colab": {
          "base_uri": "https://localhost:8080/",
          "height": 718
        },
        "id": "rd8BwVwDIJOM",
        "outputId": "af35d670-cc7c-40a4-d967-eb6a81981e47"
      },
      "execution_count": null,
      "outputs": [
        {
          "output_type": "display_data",
          "data": {
            "text/plain": [
              "<Figure size 1000x800 with 1 Axes>"
            ],
            "image/png": "[encoded data removed]"
          },
          "metadata": {}
        }
      ]
    },
    {
      "cell_type": "code",
      "source": [
        "x = np.arange(poisson.ppf(0.01, lambda_), poisson.ppf(0.99, lambda_))\n",
        "plt.figure(figsize=(10,6))\n",
        "plt.plot(x, dist.pmf(x), 'bo', ms=8, label='poisson pmf')\n",
        "plt.vlines(x, 0, dist.pmf(x), lw=5, alpha=0.5)\n",
        "plt.xlabel('Number of Orders')\n",
        "plt.ylabel('Probability')\n",
        "plt.title('Poisson Distribution of Incoming Orders Per Hour')\n",
        "plt.show()"
      ],
      "metadata": {
        "id": "1_wA1YKGTHHv",
        "colab": {
          "base_uri": "https://localhost:8080/",
          "height": 564
        },
        "outputId": "24e9a0f3-c95b-4883-8dd3-564fca46bde4"
      },
      "execution_count": null,
      "outputs": [
        {
          "output_type": "display_data",
          "data": {
            "text/plain": [
              "<Figure size 1000x600 with 1 Axes>"
            ],
            "image/png": "[encoded data removed]"
          },
          "metadata": {}
        }
      ]
    }
  ]
}